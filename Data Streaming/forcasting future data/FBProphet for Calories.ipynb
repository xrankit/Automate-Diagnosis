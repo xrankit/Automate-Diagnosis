{
 "cells": [
  {
   "cell_type": "markdown",
   "id": "84d8b9a3",
   "metadata": {},
   "source": [
    "## Import Libraries"
   ]
  },
  {
   "cell_type": "code",
   "execution_count": 1,
   "id": "bc96ef28",
   "metadata": {},
   "outputs": [],
   "source": [
    "import pandas as pd\n",
    "import numpy as np\n",
    "import seaborn as sns\n",
    "import fbprophet\n",
    "import matplotlib.pyplot as plt\n",
    "%matplotlib inline"
   ]
  },
  {
   "cell_type": "code",
   "execution_count": 2,
   "id": "b679ff14",
   "metadata": {},
   "outputs": [],
   "source": [
    "import warnings\n",
    "warnings.filterwarnings(\"ignore\")"
   ]
  },
  {
   "cell_type": "code",
   "execution_count": 3,
   "id": "f8cb9507",
   "metadata": {},
   "outputs": [],
   "source": [
    "df=pd.read_csv('mmc4.csv')"
   ]
  },
  {
   "cell_type": "code",
   "execution_count": 4,
   "id": "a5fbca40",
   "metadata": {},
   "outputs": [
    {
     "data": {
      "text/html": [
       "<div>\n",
       "<style scoped>\n",
       "    .dataframe tbody tr th:only-of-type {\n",
       "        vertical-align: middle;\n",
       "    }\n",
       "\n",
       "    .dataframe tbody tr th {\n",
       "        vertical-align: top;\n",
       "    }\n",
       "\n",
       "    .dataframe thead th {\n",
       "        text-align: right;\n",
       "    }\n",
       "</style>\n",
       "<table border=\"1\" class=\"dataframe\">\n",
       "  <thead>\n",
       "    <tr style=\"text-align: right;\">\n",
       "      <th></th>\n",
       "      <th>date_time</th>\n",
       "      <th>Time</th>\n",
       "      <th>hr</th>\n",
       "      <th>steps</th>\n",
       "      <th>Galvanic skin response</th>\n",
       "      <th>calories</th>\n",
       "      <th>temp</th>\n",
       "      <th>sec</th>\n",
       "      <th>Unnamed: 8</th>\n",
       "    </tr>\n",
       "  </thead>\n",
       "  <tbody>\n",
       "    <tr>\n",
       "      <th>0</th>\n",
       "      <td>15-08-2016 00:00</td>\n",
       "      <td>00:00:00</td>\n",
       "      <td>122.0</td>\n",
       "      <td>0</td>\n",
       "      <td>0.000052</td>\n",
       "      <td>7.5</td>\n",
       "      <td>77.9</td>\n",
       "      <td>0</td>\n",
       "      <td>0.0</td>\n",
       "    </tr>\n",
       "    <tr>\n",
       "      <th>1</th>\n",
       "      <td>15-08-2016 00:01</td>\n",
       "      <td>00:01:00</td>\n",
       "      <td>135.0</td>\n",
       "      <td>0</td>\n",
       "      <td>0.000051</td>\n",
       "      <td>8.2</td>\n",
       "      <td>77.9</td>\n",
       "      <td>1</td>\n",
       "      <td>NaN</td>\n",
       "    </tr>\n",
       "    <tr>\n",
       "      <th>2</th>\n",
       "      <td>15-08-2016 00:02</td>\n",
       "      <td>00:02:00</td>\n",
       "      <td>111.0</td>\n",
       "      <td>0</td>\n",
       "      <td>0.000052</td>\n",
       "      <td>6.2</td>\n",
       "      <td>77.9</td>\n",
       "      <td>2</td>\n",
       "      <td>NaN</td>\n",
       "    </tr>\n",
       "    <tr>\n",
       "      <th>3</th>\n",
       "      <td>15-08-2016 00:03</td>\n",
       "      <td>00:03:00</td>\n",
       "      <td>109.0</td>\n",
       "      <td>0</td>\n",
       "      <td>0.000053</td>\n",
       "      <td>5.6</td>\n",
       "      <td>77.0</td>\n",
       "      <td>3</td>\n",
       "      <td>NaN</td>\n",
       "    </tr>\n",
       "    <tr>\n",
       "      <th>4</th>\n",
       "      <td>15-08-2016 00:04</td>\n",
       "      <td>00:04:00</td>\n",
       "      <td>126.0</td>\n",
       "      <td>0</td>\n",
       "      <td>0.000053</td>\n",
       "      <td>9.0</td>\n",
       "      <td>77.0</td>\n",
       "      <td>4</td>\n",
       "      <td>NaN</td>\n",
       "    </tr>\n",
       "  </tbody>\n",
       "</table>\n",
       "</div>"
      ],
      "text/plain": [
       "          date_time      Time     hr  steps  Galvanic skin response  calories  \\\n",
       "0  15-08-2016 00:00  00:00:00  122.0      0                0.000052       7.5   \n",
       "1  15-08-2016 00:01  00:01:00  135.0      0                0.000051       8.2   \n",
       "2  15-08-2016 00:02  00:02:00  111.0      0                0.000052       6.2   \n",
       "3  15-08-2016 00:03  00:03:00  109.0      0                0.000053       5.6   \n",
       "4  15-08-2016 00:04  00:04:00  126.0      0                0.000053       9.0   \n",
       "\n",
       "   temp  sec  Unnamed: 8  \n",
       "0  77.9    0         0.0  \n",
       "1  77.9    1         NaN  \n",
       "2  77.9    2         NaN  \n",
       "3  77.0    3         NaN  \n",
       "4  77.0    4         NaN  "
      ]
     },
     "execution_count": 4,
     "metadata": {},
     "output_type": "execute_result"
    }
   ],
   "source": [
    "df.head()"
   ]
  },
  {
   "cell_type": "code",
   "execution_count": 5,
   "id": "8ed943fd",
   "metadata": {},
   "outputs": [
    {
     "data": {
      "text/html": [
       "<div>\n",
       "<style scoped>\n",
       "    .dataframe tbody tr th:only-of-type {\n",
       "        vertical-align: middle;\n",
       "    }\n",
       "\n",
       "    .dataframe tbody tr th {\n",
       "        vertical-align: top;\n",
       "    }\n",
       "\n",
       "    .dataframe thead th {\n",
       "        text-align: right;\n",
       "    }\n",
       "</style>\n",
       "<table border=\"1\" class=\"dataframe\">\n",
       "  <thead>\n",
       "    <tr style=\"text-align: right;\">\n",
       "      <th></th>\n",
       "      <th>hr</th>\n",
       "      <th>steps</th>\n",
       "      <th>Galvanic skin response</th>\n",
       "      <th>calories</th>\n",
       "      <th>temp</th>\n",
       "      <th>sec</th>\n",
       "      <th>Unnamed: 8</th>\n",
       "    </tr>\n",
       "  </thead>\n",
       "  <tbody>\n",
       "    <tr>\n",
       "      <th>count</th>\n",
       "      <td>69941.00</td>\n",
       "      <td>73440.00</td>\n",
       "      <td>69921.00</td>\n",
       "      <td>73440.00</td>\n",
       "      <td>69921.00</td>\n",
       "      <td>73440.00</td>\n",
       "      <td>1.00</td>\n",
       "    </tr>\n",
       "    <tr>\n",
       "      <th>mean</th>\n",
       "      <td>90.09</td>\n",
       "      <td>5.40</td>\n",
       "      <td>0.09</td>\n",
       "      <td>2.34</td>\n",
       "      <td>87.41</td>\n",
       "      <td>36719.50</td>\n",
       "      <td>0.00</td>\n",
       "    </tr>\n",
       "    <tr>\n",
       "      <th>std</th>\n",
       "      <td>14.50</td>\n",
       "      <td>18.68</td>\n",
       "      <td>0.95</td>\n",
       "      <td>1.40</td>\n",
       "      <td>2.63</td>\n",
       "      <td>21200.45</td>\n",
       "      <td>nan</td>\n",
       "    </tr>\n",
       "    <tr>\n",
       "      <th>min</th>\n",
       "      <td>39.00</td>\n",
       "      <td>0.00</td>\n",
       "      <td>0.00</td>\n",
       "      <td>1.20</td>\n",
       "      <td>69.80</td>\n",
       "      <td>0.00</td>\n",
       "      <td>0.00</td>\n",
       "    </tr>\n",
       "    <tr>\n",
       "      <th>25%</th>\n",
       "      <td>81.00</td>\n",
       "      <td>0.00</td>\n",
       "      <td>0.00</td>\n",
       "      <td>1.50</td>\n",
       "      <td>86.00</td>\n",
       "      <td>18359.75</td>\n",
       "      <td>0.00</td>\n",
       "    </tr>\n",
       "    <tr>\n",
       "      <th>50%</th>\n",
       "      <td>91.00</td>\n",
       "      <td>0.00</td>\n",
       "      <td>0.00</td>\n",
       "      <td>2.00</td>\n",
       "      <td>87.80</td>\n",
       "      <td>36719.50</td>\n",
       "      <td>0.00</td>\n",
       "    </tr>\n",
       "    <tr>\n",
       "      <th>75%</th>\n",
       "      <td>99.00</td>\n",
       "      <td>0.00</td>\n",
       "      <td>0.00</td>\n",
       "      <td>2.60</td>\n",
       "      <td>88.70</td>\n",
       "      <td>55079.25</td>\n",
       "      <td>0.00</td>\n",
       "    </tr>\n",
       "    <tr>\n",
       "      <th>max</th>\n",
       "      <td>187.00</td>\n",
       "      <td>146.00</td>\n",
       "      <td>28.52</td>\n",
       "      <td>19.10</td>\n",
       "      <td>98.60</td>\n",
       "      <td>73439.00</td>\n",
       "      <td>0.00</td>\n",
       "    </tr>\n",
       "  </tbody>\n",
       "</table>\n",
       "</div>"
      ],
      "text/plain": [
       "            hr    steps  Galvanic skin response  calories     temp      sec  \\\n",
       "count 69941.00 73440.00                69921.00  73440.00 69921.00 73440.00   \n",
       "mean     90.09     5.40                    0.09      2.34    87.41 36719.50   \n",
       "std      14.50    18.68                    0.95      1.40     2.63 21200.45   \n",
       "min      39.00     0.00                    0.00      1.20    69.80     0.00   \n",
       "25%      81.00     0.00                    0.00      1.50    86.00 18359.75   \n",
       "50%      91.00     0.00                    0.00      2.00    87.80 36719.50   \n",
       "75%      99.00     0.00                    0.00      2.60    88.70 55079.25   \n",
       "max     187.00   146.00                   28.52     19.10    98.60 73439.00   \n",
       "\n",
       "       Unnamed: 8  \n",
       "count        1.00  \n",
       "mean         0.00  \n",
       "std           nan  \n",
       "min          0.00  \n",
       "25%          0.00  \n",
       "50%          0.00  \n",
       "75%          0.00  \n",
       "max          0.00  "
      ]
     },
     "execution_count": 5,
     "metadata": {},
     "output_type": "execute_result"
    }
   ],
   "source": [
    "pd.set_option(\"display.float\", \"{:.2f}\".format)\n",
    "df.describe()"
   ]
  },
  {
   "cell_type": "code",
   "execution_count": 6,
   "id": "01443041",
   "metadata": {},
   "outputs": [
    {
     "data": {
      "text/plain": [
       "array([ 7.5,  8.2,  6.2,  5.6,  9. ,  5.7, 10.1, 13.3, 10.4,  6.7,  8.6,\n",
       "       10.3, 12.8, 10.8, 11.6, 10.7, 11.5, 12.3,  1.6,  1.5,  1.4,  3.2,\n",
       "        2.8,  2.1,  2.3,  2.7,  2.9,  4.2,  3.4,  2.4,  3.3,  5.9,  9.1,\n",
       "        9.8,  9.6, 10. ,  7.4,  5.5,  4.7,  2.5,  2.2,  1.8,  1.7,  3.8,\n",
       "        7.2,  4.4,  2. ,  1.9,  3.6,  2.6,  4.5,  3. ,  3.7,  4.8,  5.1,\n",
       "        5.2,  6.8,  7.6,  5.4,  3.1,  4.3,  6. ,  3.5,  4.1,  4. ,  6.6,\n",
       "        7. ,  3.9,  6.4,  6.5,  9.5, 14.2, 11.8,  5. ,  7.7,  8.7, 10.5,\n",
       "        8. ,  5.8,  4.9,  5.3,  7.1,  9.2,  9.7,  7.9,  9.4,  8.3,  7.3,\n",
       "        9.9,  6.9,  8.1, 12.2,  4.6,  8.8,  8.9,  8.4,  7.8,  6.1, 14.7,\n",
       "       13.8, 17.1, 10.2,  9.3, 12.5, 10.6, 12.9, 11. , 16.2, 17.3, 14.5,\n",
       "        8.5, 10.9, 12.7, 13. , 13.2, 17.6, 14.1, 17.5, 16.7, 11.2, 12.6,\n",
       "        1.3, 13.6,  1.2, 11.1, 12. ,  6.3, 16. , 11.7, 16.9, 17.8, 17.4,\n",
       "       18. , 15.3, 11.9, 13.4, 13.1, 14.9, 13.5, 14. , 13.7, 12.1, 15.6,\n",
       "       14.4, 15.1, 18.4, 15.7, 15.4, 18.6, 18.2, 16.1, 11.3, 15.2, 15.9,\n",
       "       15.8, 11.4, 17.2, 12.4, 16.3, 14.8, 17.9, 18.1, 14.6, 15. , 19.1,\n",
       "       15.5, 16.8, 17.7, 18.3])"
      ]
     },
     "execution_count": 6,
     "metadata": {},
     "output_type": "execute_result"
    }
   ],
   "source": [
    "df['calories'].unique()"
   ]
  },
  {
   "cell_type": "code",
   "execution_count": 7,
   "id": "e239e505",
   "metadata": {},
   "outputs": [],
   "source": [
    "df=df.drop('steps', axis=1)"
   ]
  },
  {
   "cell_type": "code",
   "execution_count": 8,
   "id": "8967f944",
   "metadata": {},
   "outputs": [],
   "source": [
    "df=df.drop('Time', axis=1)"
   ]
  },
  {
   "cell_type": "code",
   "execution_count": 9,
   "id": "d96e2fbb",
   "metadata": {},
   "outputs": [],
   "source": [
    "df=df.drop('sec', axis=1)"
   ]
  },
  {
   "cell_type": "code",
   "execution_count": 10,
   "id": "ad3043da",
   "metadata": {},
   "outputs": [],
   "source": [
    "df=df.drop('Unnamed: 8', axis=1)"
   ]
  },
  {
   "cell_type": "code",
   "execution_count": 11,
   "id": "5e392a58",
   "metadata": {},
   "outputs": [
    {
     "data": {
      "text/html": [
       "<div>\n",
       "<style scoped>\n",
       "    .dataframe tbody tr th:only-of-type {\n",
       "        vertical-align: middle;\n",
       "    }\n",
       "\n",
       "    .dataframe tbody tr th {\n",
       "        vertical-align: top;\n",
       "    }\n",
       "\n",
       "    .dataframe thead th {\n",
       "        text-align: right;\n",
       "    }\n",
       "</style>\n",
       "<table border=\"1\" class=\"dataframe\">\n",
       "  <thead>\n",
       "    <tr style=\"text-align: right;\">\n",
       "      <th></th>\n",
       "      <th>date_time</th>\n",
       "      <th>hr</th>\n",
       "      <th>Galvanic skin response</th>\n",
       "      <th>calories</th>\n",
       "      <th>temp</th>\n",
       "    </tr>\n",
       "  </thead>\n",
       "  <tbody>\n",
       "    <tr>\n",
       "      <th>0</th>\n",
       "      <td>15-08-2016 00:00</td>\n",
       "      <td>122.00</td>\n",
       "      <td>0.00</td>\n",
       "      <td>7.50</td>\n",
       "      <td>77.90</td>\n",
       "    </tr>\n",
       "    <tr>\n",
       "      <th>1</th>\n",
       "      <td>15-08-2016 00:01</td>\n",
       "      <td>135.00</td>\n",
       "      <td>0.00</td>\n",
       "      <td>8.20</td>\n",
       "      <td>77.90</td>\n",
       "    </tr>\n",
       "    <tr>\n",
       "      <th>2</th>\n",
       "      <td>15-08-2016 00:02</td>\n",
       "      <td>111.00</td>\n",
       "      <td>0.00</td>\n",
       "      <td>6.20</td>\n",
       "      <td>77.90</td>\n",
       "    </tr>\n",
       "    <tr>\n",
       "      <th>3</th>\n",
       "      <td>15-08-2016 00:03</td>\n",
       "      <td>109.00</td>\n",
       "      <td>0.00</td>\n",
       "      <td>5.60</td>\n",
       "      <td>77.00</td>\n",
       "    </tr>\n",
       "    <tr>\n",
       "      <th>4</th>\n",
       "      <td>15-08-2016 00:04</td>\n",
       "      <td>126.00</td>\n",
       "      <td>0.00</td>\n",
       "      <td>9.00</td>\n",
       "      <td>77.00</td>\n",
       "    </tr>\n",
       "  </tbody>\n",
       "</table>\n",
       "</div>"
      ],
      "text/plain": [
       "          date_time     hr  Galvanic skin response  calories  temp\n",
       "0  15-08-2016 00:00 122.00                    0.00      7.50 77.90\n",
       "1  15-08-2016 00:01 135.00                    0.00      8.20 77.90\n",
       "2  15-08-2016 00:02 111.00                    0.00      6.20 77.90\n",
       "3  15-08-2016 00:03 109.00                    0.00      5.60 77.00\n",
       "4  15-08-2016 00:04 126.00                    0.00      9.00 77.00"
      ]
     },
     "execution_count": 11,
     "metadata": {},
     "output_type": "execute_result"
    }
   ],
   "source": [
    "df.head()"
   ]
  },
  {
   "cell_type": "code",
   "execution_count": 12,
   "id": "a77ae6c3",
   "metadata": {},
   "outputs": [
    {
     "name": "stdout",
     "output_type": "stream",
     "text": [
      "2.869553376906318\n"
     ]
    }
   ],
   "source": [
    "missing_values_count = df.isnull().sum()\n",
    "\n",
    "total_cells = np.product(df.shape)\n",
    "\n",
    "total_missing = missing_values_count.sum()\n",
    "\n",
    "percentage_missing = (total_missing/total_cells)*100\n",
    "print(percentage_missing)"
   ]
  },
  {
   "cell_type": "code",
   "execution_count": 13,
   "id": "5bcb8698",
   "metadata": {},
   "outputs": [
    {
     "data": {
      "text/plain": [
       "date_time                    0\n",
       "hr                        3499\n",
       "Galvanic skin response    3519\n",
       "calories                     0\n",
       "temp                      3519\n",
       "dtype: int64"
      ]
     },
     "execution_count": 13,
     "metadata": {},
     "output_type": "execute_result"
    }
   ],
   "source": [
    "df.isnull().sum()"
   ]
  },
  {
   "cell_type": "code",
   "execution_count": 14,
   "id": "721a364c",
   "metadata": {},
   "outputs": [],
   "source": [
    "df = df.bfill(axis ='columns')"
   ]
  },
  {
   "cell_type": "code",
   "execution_count": 15,
   "id": "91b8f0c5",
   "metadata": {},
   "outputs": [
    {
     "data": {
      "text/html": [
       "<div>\n",
       "<style scoped>\n",
       "    .dataframe tbody tr th:only-of-type {\n",
       "        vertical-align: middle;\n",
       "    }\n",
       "\n",
       "    .dataframe tbody tr th {\n",
       "        vertical-align: top;\n",
       "    }\n",
       "\n",
       "    .dataframe thead th {\n",
       "        text-align: right;\n",
       "    }\n",
       "</style>\n",
       "<table border=\"1\" class=\"dataframe\">\n",
       "  <thead>\n",
       "    <tr style=\"text-align: right;\">\n",
       "      <th></th>\n",
       "      <th>date_time</th>\n",
       "      <th>hr</th>\n",
       "      <th>Galvanic skin response</th>\n",
       "      <th>calories</th>\n",
       "      <th>temp</th>\n",
       "    </tr>\n",
       "  </thead>\n",
       "  <tbody>\n",
       "    <tr>\n",
       "      <th>0</th>\n",
       "      <td>15-08-2016 00:00</td>\n",
       "      <td>122.00</td>\n",
       "      <td>0.00</td>\n",
       "      <td>7.50</td>\n",
       "      <td>77.90</td>\n",
       "    </tr>\n",
       "    <tr>\n",
       "      <th>1</th>\n",
       "      <td>15-08-2016 00:01</td>\n",
       "      <td>135.00</td>\n",
       "      <td>0.00</td>\n",
       "      <td>8.20</td>\n",
       "      <td>77.90</td>\n",
       "    </tr>\n",
       "    <tr>\n",
       "      <th>2</th>\n",
       "      <td>15-08-2016 00:02</td>\n",
       "      <td>111.00</td>\n",
       "      <td>0.00</td>\n",
       "      <td>6.20</td>\n",
       "      <td>77.90</td>\n",
       "    </tr>\n",
       "    <tr>\n",
       "      <th>3</th>\n",
       "      <td>15-08-2016 00:03</td>\n",
       "      <td>109.00</td>\n",
       "      <td>0.00</td>\n",
       "      <td>5.60</td>\n",
       "      <td>77.00</td>\n",
       "    </tr>\n",
       "    <tr>\n",
       "      <th>4</th>\n",
       "      <td>15-08-2016 00:04</td>\n",
       "      <td>126.00</td>\n",
       "      <td>0.00</td>\n",
       "      <td>9.00</td>\n",
       "      <td>77.00</td>\n",
       "    </tr>\n",
       "  </tbody>\n",
       "</table>\n",
       "</div>"
      ],
      "text/plain": [
       "          date_time     hr Galvanic skin response calories  temp\n",
       "0  15-08-2016 00:00 122.00                   0.00     7.50 77.90\n",
       "1  15-08-2016 00:01 135.00                   0.00     8.20 77.90\n",
       "2  15-08-2016 00:02 111.00                   0.00     6.20 77.90\n",
       "3  15-08-2016 00:03 109.00                   0.00     5.60 77.00\n",
       "4  15-08-2016 00:04 126.00                   0.00     9.00 77.00"
      ]
     },
     "execution_count": 15,
     "metadata": {},
     "output_type": "execute_result"
    }
   ],
   "source": [
    "df.head()"
   ]
  },
  {
   "cell_type": "code",
   "execution_count": 16,
   "id": "87254bd4",
   "metadata": {},
   "outputs": [],
   "source": [
    "df = df.ffill(axis ='columns')"
   ]
  },
  {
   "cell_type": "code",
   "execution_count": 17,
   "id": "75644b1f",
   "metadata": {},
   "outputs": [
    {
     "data": {
      "text/plain": [
       "date_time                 0\n",
       "hr                        0\n",
       "Galvanic skin response    0\n",
       "calories                  0\n",
       "temp                      0\n",
       "dtype: int64"
      ]
     },
     "execution_count": 17,
     "metadata": {},
     "output_type": "execute_result"
    }
   ],
   "source": [
    "df.isnull().sum()"
   ]
  },
  {
   "cell_type": "code",
   "execution_count": 18,
   "id": "73e5e7b7",
   "metadata": {},
   "outputs": [],
   "source": [
    "import matplotlib.pyplot as plt\n",
    "import seaborn as sns\n",
    "sns.set(rc = {'figure.figsize': (25, 7)})"
   ]
  },
  {
   "cell_type": "code",
   "execution_count": 19,
   "id": "52e036e9",
   "metadata": {},
   "outputs": [
    {
     "data": {
      "text/plain": [
       "<AxesSubplot:>"
      ]
     },
     "execution_count": 19,
     "metadata": {},
     "output_type": "execute_result"
    },
    {
     "data": {
      "image/png": "[encoded data removed]",
      "text/plain": [
       "<Figure size 1800x504 with 1 Axes>"
      ]
     },
     "metadata": {},
     "output_type": "display_data"
    }
   ],
   "source": [
    "df['calories'].plot(linewidth = 0.2,color='blue')"
   ]
  },
  {
   "cell_type": "code",
   "execution_count": 20,
   "id": "ea09a3d4",
   "metadata": {},
   "outputs": [],
   "source": [
    "df['date_time'] = pd.to_datetime(df['date_time'])"
   ]
  },
  {
   "cell_type": "code",
   "execution_count": null,
   "id": "6d779c96",
   "metadata": {},
   "outputs": [],
   "source": [
    "df.dtypes"
   ]
  },
  {
   "cell_type": "code",
   "execution_count": null,
   "id": "3127c7d4",
   "metadata": {},
   "outputs": [],
   "source": [
    "# Displaying random sample of 5 rows\n",
    "df.sample(5, random_state = 0)"
   ]
  },
  {
   "cell_type": "code",
   "execution_count": 21,
   "id": "3b25f352",
   "metadata": {},
   "outputs": [
    {
     "data": {
      "text/plain": [
       "array([ 7.5,  8.2,  6.2,  5.6,  9. ,  5.7, 10.1, 13.3, 10.4,  6.7,  8.6,\n",
       "       10.3, 12.8, 10.8, 11.6, 10.7, 11.5, 12.3,  1.6,  1.5,  1.4,  3.2,\n",
       "        2.8,  2.1,  2.3,  2.7,  2.9,  4.2,  3.4,  2.4,  3.3,  5.9,  9.1,\n",
       "        9.8,  9.6, 10. ,  7.4,  5.5,  4.7,  2.5,  2.2,  1.8,  1.7,  3.8,\n",
       "        7.2,  4.4,  2. ,  1.9,  3.6,  2.6,  4.5,  3. ,  3.7,  4.8,  5.1,\n",
       "        5.2,  6.8,  7.6,  5.4,  3.1,  4.3,  6. ,  3.5,  4.1,  4. ,  6.6,\n",
       "        7. ,  3.9,  6.4,  6.5,  9.5, 14.2, 11.8,  5. ,  7.7,  8.7, 10.5,\n",
       "        8. ,  5.8,  4.9,  5.3,  7.1,  9.2,  9.7,  7.9,  9.4,  8.3,  7.3,\n",
       "        9.9,  6.9,  8.1, 12.2,  4.6,  8.8,  8.9,  8.4,  7.8,  6.1, 14.7,\n",
       "       13.8, 17.1, 10.2,  9.3, 12.5, 10.6, 12.9, 11. , 16.2, 17.3, 14.5,\n",
       "        8.5, 10.9, 12.7, 13. , 13.2, 17.6, 14.1, 17.5, 16.7, 11.2, 12.6,\n",
       "        1.3, 13.6,  1.2, 11.1, 12. ,  6.3, 16. , 11.7, 16.9, 17.8, 17.4,\n",
       "       18. , 15.3, 11.9, 13.4, 13.1, 14.9, 13.5, 14. , 13.7, 12.1, 15.6,\n",
       "       14.4, 15.1, 18.4, 15.7, 15.4, 18.6, 18.2, 16.1, 11.3, 15.2, 15.9,\n",
       "       15.8, 11.4, 17.2, 12.4, 16.3, 14.8, 17.9, 18.1, 14.6, 15. , 19.1,\n",
       "       15.5, 16.8, 17.7, 18.3])"
      ]
     },
     "execution_count": 21,
     "metadata": {},
     "output_type": "execute_result"
    }
   ],
   "source": [
    "df['calories'].unique()"
   ]
  },
  {
   "cell_type": "code",
   "execution_count": 22,
   "id": "36b7e75b",
   "metadata": {},
   "outputs": [],
   "source": [
    "df1 = df.rename(columns = {'date_time': 'ds', 'hr':'hb','Galvanic skin response': 'gsr','calories':'y'}, inplace = False)"
   ]
  },
  {
   "cell_type": "code",
   "execution_count": 23,
   "id": "bf34bc2a",
   "metadata": {},
   "outputs": [
    {
     "data": {
      "text/html": [
       "<div>\n",
       "<style scoped>\n",
       "    .dataframe tbody tr th:only-of-type {\n",
       "        vertical-align: middle;\n",
       "    }\n",
       "\n",
       "    .dataframe tbody tr th {\n",
       "        vertical-align: top;\n",
       "    }\n",
       "\n",
       "    .dataframe thead th {\n",
       "        text-align: right;\n",
       "    }\n",
       "</style>\n",
       "<table border=\"1\" class=\"dataframe\">\n",
       "  <thead>\n",
       "    <tr style=\"text-align: right;\">\n",
       "      <th></th>\n",
       "      <th>ds</th>\n",
       "      <th>hb</th>\n",
       "      <th>gsr</th>\n",
       "      <th>y</th>\n",
       "      <th>temp</th>\n",
       "    </tr>\n",
       "  </thead>\n",
       "  <tbody>\n",
       "    <tr>\n",
       "      <th>0</th>\n",
       "      <td>2016-08-15 00:00:00</td>\n",
       "      <td>122.00</td>\n",
       "      <td>0.00</td>\n",
       "      <td>7.50</td>\n",
       "      <td>77.90</td>\n",
       "    </tr>\n",
       "    <tr>\n",
       "      <th>1</th>\n",
       "      <td>2016-08-15 00:01:00</td>\n",
       "      <td>135.00</td>\n",
       "      <td>0.00</td>\n",
       "      <td>8.20</td>\n",
       "      <td>77.90</td>\n",
       "    </tr>\n",
       "    <tr>\n",
       "      <th>2</th>\n",
       "      <td>2016-08-15 00:02:00</td>\n",
       "      <td>111.00</td>\n",
       "      <td>0.00</td>\n",
       "      <td>6.20</td>\n",
       "      <td>77.90</td>\n",
       "    </tr>\n",
       "    <tr>\n",
       "      <th>3</th>\n",
       "      <td>2016-08-15 00:03:00</td>\n",
       "      <td>109.00</td>\n",
       "      <td>0.00</td>\n",
       "      <td>5.60</td>\n",
       "      <td>77.00</td>\n",
       "    </tr>\n",
       "    <tr>\n",
       "      <th>4</th>\n",
       "      <td>2016-08-15 00:04:00</td>\n",
       "      <td>126.00</td>\n",
       "      <td>0.00</td>\n",
       "      <td>9.00</td>\n",
       "      <td>77.00</td>\n",
       "    </tr>\n",
       "  </tbody>\n",
       "</table>\n",
       "</div>"
      ],
      "text/plain": [
       "                   ds     hb  gsr    y  temp\n",
       "0 2016-08-15 00:00:00 122.00 0.00 7.50 77.90\n",
       "1 2016-08-15 00:01:00 135.00 0.00 8.20 77.90\n",
       "2 2016-08-15 00:02:00 111.00 0.00 6.20 77.90\n",
       "3 2016-08-15 00:03:00 109.00 0.00 5.60 77.00\n",
       "4 2016-08-15 00:04:00 126.00 0.00 9.00 77.00"
      ]
     },
     "execution_count": 23,
     "metadata": {},
     "output_type": "execute_result"
    }
   ],
   "source": [
    "df1.columns = ['ds','hb','gsr','y','temp']\n",
    "df1.head()"
   ]
  },
  {
   "cell_type": "code",
   "execution_count": 24,
   "id": "a4958a30",
   "metadata": {},
   "outputs": [],
   "source": [
    "del df1[\"gsr\"]\n",
    "del df1[\"temp\"]\n",
    "del df1[\"hb\"]"
   ]
  },
  {
   "cell_type": "code",
   "execution_count": 25,
   "id": "a205c53a",
   "metadata": {},
   "outputs": [
    {
     "data": {
      "text/html": [
       "<div>\n",
       "<style scoped>\n",
       "    .dataframe tbody tr th:only-of-type {\n",
       "        vertical-align: middle;\n",
       "    }\n",
       "\n",
       "    .dataframe tbody tr th {\n",
       "        vertical-align: top;\n",
       "    }\n",
       "\n",
       "    .dataframe thead th {\n",
       "        text-align: right;\n",
       "    }\n",
       "</style>\n",
       "<table border=\"1\" class=\"dataframe\">\n",
       "  <thead>\n",
       "    <tr style=\"text-align: right;\">\n",
       "      <th></th>\n",
       "      <th>ds</th>\n",
       "      <th>y</th>\n",
       "    </tr>\n",
       "  </thead>\n",
       "  <tbody>\n",
       "    <tr>\n",
       "      <th>0</th>\n",
       "      <td>2016-08-15 00:00:00</td>\n",
       "      <td>7.50</td>\n",
       "    </tr>\n",
       "    <tr>\n",
       "      <th>1</th>\n",
       "      <td>2016-08-15 00:01:00</td>\n",
       "      <td>8.20</td>\n",
       "    </tr>\n",
       "    <tr>\n",
       "      <th>2</th>\n",
       "      <td>2016-08-15 00:02:00</td>\n",
       "      <td>6.20</td>\n",
       "    </tr>\n",
       "    <tr>\n",
       "      <th>3</th>\n",
       "      <td>2016-08-15 00:03:00</td>\n",
       "      <td>5.60</td>\n",
       "    </tr>\n",
       "    <tr>\n",
       "      <th>4</th>\n",
       "      <td>2016-08-15 00:04:00</td>\n",
       "      <td>9.00</td>\n",
       "    </tr>\n",
       "  </tbody>\n",
       "</table>\n",
       "</div>"
      ],
      "text/plain": [
       "                   ds    y\n",
       "0 2016-08-15 00:00:00 7.50\n",
       "1 2016-08-15 00:01:00 8.20\n",
       "2 2016-08-15 00:02:00 6.20\n",
       "3 2016-08-15 00:03:00 5.60\n",
       "4 2016-08-15 00:04:00 9.00"
      ]
     },
     "execution_count": 25,
     "metadata": {},
     "output_type": "execute_result"
    }
   ],
   "source": [
    "df1.head()"
   ]
  },
  {
   "cell_type": "markdown",
   "id": "a26c75e4",
   "metadata": {},
   "source": [
    "## Model training"
   ]
  },
  {
   "cell_type": "code",
   "execution_count": 26,
   "id": "4e624c1d",
   "metadata": {},
   "outputs": [],
   "source": [
    "from fbprophet import Prophet"
   ]
  },
  {
   "cell_type": "code",
   "execution_count": 27,
   "id": "0eec9ae8",
   "metadata": {
    "scrolled": true
   },
   "outputs": [
    {
     "data": {
      "text/plain": [
       "['__class__',\n",
       " '__delattr__',\n",
       " '__dict__',\n",
       " '__dir__',\n",
       " '__doc__',\n",
       " '__eq__',\n",
       " '__format__',\n",
       " '__ge__',\n",
       " '__getattribute__',\n",
       " '__gt__',\n",
       " '__hash__',\n",
       " '__init__',\n",
       " '__init_subclass__',\n",
       " '__le__',\n",
       " '__lt__',\n",
       " '__module__',\n",
       " '__ne__',\n",
       " '__new__',\n",
       " '__reduce__',\n",
       " '__reduce_ex__',\n",
       " '__repr__',\n",
       " '__setattr__',\n",
       " '__sizeof__',\n",
       " '__str__',\n",
       " '__subclasshook__',\n",
       " '__weakref__',\n",
       " '_load_stan_backend',\n",
       " 'add_country_holidays',\n",
       " 'add_group_component',\n",
       " 'add_regressor',\n",
       " 'add_seasonality',\n",
       " 'construct_holiday_dataframe',\n",
       " 'fit',\n",
       " 'flat_growth_init',\n",
       " 'flat_trend',\n",
       " 'fourier_series',\n",
       " 'initialize_scales',\n",
       " 'linear_growth_init',\n",
       " 'logistic_growth_init',\n",
       " 'make_all_seasonality_features',\n",
       " 'make_future_dataframe',\n",
       " 'make_holiday_features',\n",
       " 'make_seasonality_features',\n",
       " 'parse_seasonality_args',\n",
       " 'percentile',\n",
       " 'piecewise_linear',\n",
       " 'piecewise_logistic',\n",
       " 'plot',\n",
       " 'plot_components',\n",
       " 'predict',\n",
       " 'predict_seasonal_components',\n",
       " 'predict_trend',\n",
       " 'predict_uncertainty',\n",
       " 'predictive_samples',\n",
       " 'regressor_column_matrix',\n",
       " 'sample_model',\n",
       " 'sample_posterior_predictive',\n",
       " 'sample_predictive_trend',\n",
       " 'set_auto_seasonalities',\n",
       " 'set_changepoints',\n",
       " 'setup_dataframe',\n",
       " 'validate_column_name',\n",
       " 'validate_inputs']"
      ]
     },
     "execution_count": 27,
     "metadata": {},
     "output_type": "execute_result"
    }
   ],
   "source": [
    "dir(Prophet)"
   ]
  },
  {
   "cell_type": "markdown",
   "id": "4ef998b8",
   "metadata": {},
   "source": [
    "## Initialize the Model"
   ]
  },
  {
   "cell_type": "code",
   "execution_count": 28,
   "id": "92c36f68",
   "metadata": {},
   "outputs": [],
   "source": [
    "model=Prophet()"
   ]
  },
  {
   "cell_type": "code",
   "execution_count": 29,
   "id": "0d9d6b88",
   "metadata": {},
   "outputs": [
    {
     "data": {
      "text/plain": [
       "Index(['ds', 'y'], dtype='object')"
      ]
     },
     "execution_count": 29,
     "metadata": {},
     "output_type": "execute_result"
    }
   ],
   "source": [
    "df1.columns"
   ]
  },
  {
   "cell_type": "code",
   "execution_count": null,
   "id": "29a1c636",
   "metadata": {},
   "outputs": [],
   "source": [
    "model.fit(df1)"
   ]
  },
  {
   "cell_type": "code",
   "execution_count": null,
   "id": "9a359c86",
   "metadata": {},
   "outputs": [],
   "source": [
    "future_dates=model.make_future_dataframe(periods=365)"
   ]
  },
  {
   "cell_type": "code",
   "execution_count": null,
   "id": "887704fc",
   "metadata": {},
   "outputs": [],
   "source": [
    "prediction=model.predict(future_dates)"
   ]
  },
  {
   "cell_type": "code",
   "execution_count": null,
   "id": "e92aebcd",
   "metadata": {},
   "outputs": [],
   "source": [
    "prediction.head()"
   ]
  },
  {
   "cell_type": "code",
   "execution_count": null,
   "id": "022749ce",
   "metadata": {},
   "outputs": [],
   "source": [
    "sns.set(rc = {'figure.figsize': (25, 7)})\n",
    "model.plot(prediction)"
   ]
  },
  {
   "cell_type": "code",
   "execution_count": null,
   "id": "9ae2241f",
   "metadata": {},
   "outputs": [],
   "source": [
    "#### Visualize Each Components[Trends,yearly]\n",
    "model.plot_components(prediction)"
   ]
  },
  {
   "cell_type": "code",
   "execution_count": null,
   "id": "78879947",
   "metadata": {},
   "outputs": [],
   "source": [
    "prediction[['ds','yhat','yhat_lower','yhat_upper']].head()"
   ]
  },
  {
   "cell_type": "code",
   "execution_count": null,
   "id": "42e39739",
   "metadata": {},
   "outputs": [],
   "source": [
    "pd.concat([df1.set_index('ds')['y'],prediction.set_index('ds')['yhat']], axis=1).plot()"
   ]
  }
 ],
 "metadata": {
  "kernelspec": {
   "display_name": "Python 3",
   "language": "python",
   "name": "python3"
  },
  "language_info": {
   "codemirror_mode": {
    "name": "ipython",
    "version": 3
   },
   "file_extension": ".py",
   "mimetype": "text/x-python",
   "name": "python",
   "nbconvert_exporter": "python",
   "pygments_lexer": "ipython3",
   "version": "3.8.8"
  }
 },
 "nbformat": 4,
 "nbformat_minor": 5
}
